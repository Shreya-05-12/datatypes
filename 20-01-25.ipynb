{
 "cells": [
  {
   "cell_type": "code",
   "execution_count": 1,
   "id": "cc88c908-0639-47e6-b4ee-37368127896d",
   "metadata": {},
   "outputs": [],
   "source": [
    "import numpy as np"
   ]
  },
  {
   "cell_type": "code",
   "execution_count": 95,
   "id": "95cca506-ebe9-4938-81bd-4410a2e82e5d",
   "metadata": {},
   "outputs": [],
   "source": [
    "a=np.random.randint(20,60,15)"
   ]
  },
  {
   "cell_type": "code",
   "execution_count": 97,
   "id": "ab433a26-89cf-43e0-9af4-338f3475e4d2",
   "metadata": {},
   "outputs": [
    {
     "data": {
      "text/plain": [
       "1"
      ]
     },
     "execution_count": 97,
     "metadata": {},
     "output_type": "execute_result"
    }
   ],
   "source": [
    "a.ndim"
   ]
  },
  {
   "cell_type": "code",
   "execution_count": 99,
   "id": "a3780160-31bc-4eb8-88f7-5cc4a84515d8",
   "metadata": {},
   "outputs": [
    {
     "data": {
      "text/plain": [
       "array([54, 36, 30, 46, 52, 32, 43, 28])"
      ]
     },
     "execution_count": 99,
     "metadata": {},
     "output_type": "execute_result"
    }
   ],
   "source": [
    "a[4:12]"
   ]
  },
  {
   "cell_type": "code",
   "execution_count": 101,
   "id": "812dd8ad-b9c1-4795-a3f2-b48fc6584285",
   "metadata": {},
   "outputs": [
    {
     "data": {
      "text/plain": [
       "array([39, 52, 28, 43, 32, 52, 46, 30])"
      ]
     },
     "execution_count": 101,
     "metadata": {},
     "output_type": "execute_result"
    }
   ],
   "source": [
    "a[-2:-10:-1]"
   ]
  },
  {
   "cell_type": "code",
   "execution_count": 103,
   "id": "0017db3a-daf0-42cb-aaf3-5989996fbea5",
   "metadata": {},
   "outputs": [
    {
     "data": {
      "text/plain": [
       "array([29, 39, 56, 27, 54, 36, 30, 46, 52, 32, 43, 28, 52, 39, 39])"
      ]
     },
     "execution_count": 103,
     "metadata": {},
     "output_type": "execute_result"
    }
   ],
   "source": [
    "a"
   ]
  },
  {
   "cell_type": "code",
   "execution_count": 105,
   "id": "18c4b0cc-6176-469b-85ff-f5741aed6ba6",
   "metadata": {},
   "outputs": [
    {
     "data": {
      "text/plain": [
       "array([29, 27, 28])"
      ]
     },
     "execution_count": 105,
     "metadata": {},
     "output_type": "execute_result"
    }
   ],
   "source": [
    "a[a<30]"
   ]
  },
  {
   "cell_type": "code",
   "execution_count": 107,
   "id": "429b512b-8425-4c53-8d9d-eed39205c082",
   "metadata": {},
   "outputs": [
    {
     "data": {
      "text/plain": [
       "(array([ 0,  3, 11], dtype=int64),)"
      ]
     },
     "execution_count": 107,
     "metadata": {},
     "output_type": "execute_result"
    }
   ],
   "source": [
    "np.where(a<30)"
   ]
  },
  {
   "cell_type": "code",
   "execution_count": 109,
   "id": "4fcfb511-8470-45fe-a587-17b3116c3dde",
   "metadata": {},
   "outputs": [
    {
     "data": {
      "text/plain": [
       "array([[33, 15, 18, 37, 44, 34, 31, 23],\n",
       "       [31, 29, 48, 25, 47, 39, 39, 18],\n",
       "       [30, 41, 26, 21, 28, 29, 17, 38],\n",
       "       [49, 47, 16, 15, 48, 22, 44, 35],\n",
       "       [23, 30, 25, 34, 42, 16, 39, 35],\n",
       "       [45, 45, 21, 45, 37, 48, 23, 47],\n",
       "       [30, 37, 37, 17, 45, 24, 44, 39]])"
      ]
     },
     "execution_count": 109,
     "metadata": {},
     "output_type": "execute_result"
    }
   ],
   "source": [
    "np.random.seed(94)\n",
    "b=np.random.randint(15,50,(7,8))\n",
    "b"
   ]
  },
  {
   "cell_type": "code",
   "execution_count": 35,
   "id": "8ca3a848-8a06-47a4-9fe9-8e69e5c9b6b5",
   "metadata": {},
   "outputs": [
    {
     "data": {
      "text/plain": [
       "array([30, 41, 26, 21, 28, 29, 17, 38])"
      ]
     },
     "execution_count": 35,
     "metadata": {},
     "output_type": "execute_result"
    }
   ],
   "source": [
    "b[2] #2nd row"
   ]
  },
  {
   "cell_type": "code",
   "execution_count": 37,
   "id": "feacc647-316f-4f9a-8e5f-b11ac3336aa1",
   "metadata": {},
   "outputs": [
    {
     "data": {
      "text/plain": [
       "array([23, 18, 38, 35, 35, 47, 39])"
      ]
     },
     "execution_count": 37,
     "metadata": {},
     "output_type": "execute_result"
    }
   ],
   "source": [
    "b[:,7] #7th column(starting from 0)"
   ]
  },
  {
   "cell_type": "code",
   "execution_count": 47,
   "id": "edc5eae9-fb27-42ec-a39c-d4b5aca76a28",
   "metadata": {},
   "outputs": [
    {
     "data": {
      "text/plain": [
       "47"
      ]
     },
     "execution_count": 47,
     "metadata": {},
     "output_type": "execute_result"
    }
   ],
   "source": [
    "b[3,1] #to access 47-3rd row and 1st column"
   ]
  },
  {
   "cell_type": "code",
   "execution_count": 49,
   "id": "b8b7b035-02fd-45b2-9f21-05a1f929cfdf",
   "metadata": {},
   "outputs": [
    {
     "data": {
      "text/plain": [
       "45"
      ]
     },
     "execution_count": 49,
     "metadata": {},
     "output_type": "execute_result"
    }
   ],
   "source": [
    "b[6,4]"
   ]
  },
  {
   "cell_type": "code",
   "execution_count": 53,
   "id": "d7719831-e79c-4690-8c8b-f338c117391e",
   "metadata": {},
   "outputs": [
    {
     "data": {
      "text/plain": [
       "array([[31, 29, 48, 25, 47, 39, 39, 18],\n",
       "       [30, 41, 26, 21, 28, 29, 17, 38],\n",
       "       [49, 47, 16, 15, 48, 22, 44, 35],\n",
       "       [23, 30, 25, 34, 42, 16, 39, 35]])"
      ]
     },
     "execution_count": 53,
     "metadata": {},
     "output_type": "execute_result"
    }
   ],
   "source": [
    "b[1:5]"
   ]
  },
  {
   "cell_type": "code",
   "execution_count": 57,
   "id": "6d602f18-37d6-4ad4-9629-f9652e522c74",
   "metadata": {},
   "outputs": [
    {
     "data": {
      "text/plain": [
       "array([[29, 48, 25],\n",
       "       [41, 26, 21],\n",
       "       [47, 16, 15],\n",
       "       [30, 25, 34]])"
      ]
     },
     "execution_count": 57,
     "metadata": {},
     "output_type": "execute_result"
    }
   ],
   "source": [
    "b[1:5,1:4]"
   ]
  },
  {
   "cell_type": "code",
   "execution_count": 61,
   "id": "952498a6-a255-4d6f-a983-578e64ea531c",
   "metadata": {},
   "outputs": [],
   "source": [
    "#array[row_start:row_end:row_step,column_start:column_end:column_step"
   ]
  },
  {
   "cell_type": "code",
   "execution_count": 63,
   "id": "90e5b739-abec-4792-9ca2-1d0b71ca1c22",
   "metadata": {},
   "outputs": [
    {
     "data": {
      "text/plain": [
       "array([[16, 15, 48, 22],\n",
       "       [25, 34, 42, 16],\n",
       "       [21, 45, 37, 48]])"
      ]
     },
     "execution_count": 63,
     "metadata": {},
     "output_type": "execute_result"
    }
   ],
   "source": [
    "b[3:6,2:6]"
   ]
  },
  {
   "cell_type": "code",
   "execution_count": 67,
   "id": "50983e52-2118-4691-b1b0-8d886ff1f319",
   "metadata": {},
   "outputs": [
    {
     "data": {
      "text/plain": [
       "array([[29, 48, 25, 47, 39, 39],\n",
       "       [41, 26, 21, 28, 29, 17],\n",
       "       [47, 16, 15, 48, 22, 44],\n",
       "       [30, 25, 34, 42, 16, 39],\n",
       "       [45, 21, 45, 37, 48, 23],\n",
       "       [37, 37, 17, 45, 24, 44]])"
      ]
     },
     "execution_count": 67,
     "metadata": {},
     "output_type": "execute_result"
    }
   ],
   "source": [
    "b[1:7,1:7]"
   ]
  },
  {
   "cell_type": "code",
   "execution_count": 75,
   "id": "e4c60bde-1e12-4e5f-b85c-76717476fa0d",
   "metadata": {},
   "outputs": [
    {
     "data": {
      "text/plain": [
       "array([[31, 29, 48, 25, 47, 39, 39, 18],\n",
       "       [30, 41, 26, 21, 28, 29, 17, 38],\n",
       "       [49, 47, 16, 15, 48, 22, 44, 35],\n",
       "       [23, 30, 25, 34, 42, 16, 39, 35],\n",
       "       [45, 45, 21, 45, 37, 48, 23, 47]])"
      ]
     },
     "execution_count": 75,
     "metadata": {},
     "output_type": "execute_result"
    }
   ],
   "source": [
    "b[-6:-1]"
   ]
  },
  {
   "cell_type": "code",
   "execution_count": 87,
   "id": "b59986e8-e725-4e0d-9783-1da60b431434",
   "metadata": {},
   "outputs": [],
   "source": [
    "# 41,28,38,30,42,35"
   ]
  },
  {
   "cell_type": "code",
   "execution_count": 117,
   "id": "8cff6545-6a2b-4be1-9889-75afe6962619",
   "metadata": {},
   "outputs": [
    {
     "data": {
      "text/plain": [
       "array([[41, 28, 38],\n",
       "       [30, 42, 35]])"
      ]
     },
     "execution_count": 117,
     "metadata": {},
     "output_type": "execute_result"
    }
   ],
   "source": [
    "b[2:5:2,1:8:3]"
   ]
  },
  {
   "cell_type": "code",
   "execution_count": 119,
   "id": "2467d84d-ded0-4bbc-8910-ea97729a0cdd",
   "metadata": {},
   "outputs": [
    {
     "data": {
      "text/plain": [
       "array([44, 48, 47, 41, 49, 47, 48, 44, 42, 45, 45, 45, 48, 47, 45, 44])"
      ]
     },
     "execution_count": 119,
     "metadata": {},
     "output_type": "execute_result"
    }
   ],
   "source": [
    "b[b>40]"
   ]
  },
  {
   "cell_type": "code",
   "execution_count": 113,
   "id": "c48257af-368d-4ecf-8658-0a9e12f94eae",
   "metadata": {},
   "outputs": [
    {
     "data": {
      "text/plain": [
       "(array([0, 1, 1, 2, 3, 3, 3, 3, 4, 5, 5, 5, 5, 5, 6, 6], dtype=int64),\n",
       " array([4, 2, 4, 1, 0, 1, 4, 6, 4, 0, 1, 3, 5, 7, 4, 6], dtype=int64))"
      ]
     },
     "execution_count": 113,
     "metadata": {},
     "output_type": "execute_result"
    }
   ],
   "source": [
    "np.where(b>40)#we use where() to access the element based on index"
   ]
  },
  {
   "cell_type": "code",
   "execution_count": null,
   "id": "9f5d3317-e72b-4982-99f4-b4a7fb624a6c",
   "metadata": {},
   "outputs": [],
   "source": []
  }
 ],
 "metadata": {
  "kernelspec": {
   "display_name": "Python [conda env:base] *",
   "language": "python",
   "name": "conda-base-py"
  },
  "language_info": {
   "codemirror_mode": {
    "name": "ipython",
    "version": 3
   },
   "file_extension": ".py",
   "mimetype": "text/x-python",
   "name": "python",
   "nbconvert_exporter": "python",
   "pygments_lexer": "ipython3",
   "version": "3.12.7"
  }
 },
 "nbformat": 4,
 "nbformat_minor": 5
}
