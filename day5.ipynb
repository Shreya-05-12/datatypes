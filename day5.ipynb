{
 "cells": [
  {
   "cell_type": "code",
   "execution_count": 1,
   "id": "b11084da-5d1f-49c0-ab8d-1e7cf8e5cf9f",
   "metadata": {},
   "outputs": [
    {
     "data": {
      "text/plain": [
       "{101: 4, 102: 7, 'B': 2}"
      ]
     },
     "execution_count": 1,
     "metadata": {},
     "output_type": "execute_result"
    }
   ],
   "source": [
    "d={101:4,102:7,'B':2} #dictionary\n",
    "d"
   ]
  },
  {
   "cell_type": "code",
   "execution_count": 3,
   "id": "1fe994ae-d23e-4f1e-9ac4-30d30be1a382",
   "metadata": {},
   "outputs": [
    {
     "data": {
      "text/plain": [
       "2"
      ]
     },
     "execution_count": 3,
     "metadata": {},
     "output_type": "execute_result"
    }
   ],
   "source": [
    "d['B']"
   ]
  },
  {
   "cell_type": "code",
   "execution_count": 5,
   "id": "645e7893-606b-4e89-a940-e6e057b01358",
   "metadata": {},
   "outputs": [
    {
     "data": {
      "text/plain": [
       "4"
      ]
     },
     "execution_count": 5,
     "metadata": {},
     "output_type": "execute_result"
    }
   ],
   "source": [
    "d[101]"
   ]
  },
  {
   "cell_type": "code",
   "execution_count": 11,
   "id": "4fd6f0c1-f161-4a81-a2a9-7855a2bbf0a0",
   "metadata": {},
   "outputs": [
    {
     "data": {
      "text/plain": [
       "367"
      ]
     },
     "execution_count": 11,
     "metadata": {},
     "output_type": "execute_result"
    }
   ],
   "source": [
    "d[101]=367\n",
    "d[101]"
   ]
  },
  {
   "cell_type": "code",
   "execution_count": 15,
   "id": "cb5291a0-083e-48e6-a4d6-19a08e4fd2e0",
   "metadata": {},
   "outputs": [
    {
     "data": {
      "text/plain": [
       "{101: 367, 102: 365, 'B': 2}"
      ]
     },
     "execution_count": 15,
     "metadata": {},
     "output_type": "execute_result"
    }
   ],
   "source": [
    "d.update({102:365})\n",
    "d"
   ]
  },
  {
   "cell_type": "code",
   "execution_count": 17,
   "id": "c715dbe8-188c-4960-817e-07055f75daee",
   "metadata": {},
   "outputs": [
    {
     "data": {
      "text/plain": [
       "{101: 367, 102: 365, 'B': 2, 105: 380}"
      ]
     },
     "execution_count": 17,
     "metadata": {},
     "output_type": "execute_result"
    }
   ],
   "source": [
    "d[105]=380\n",
    "d"
   ]
  },
  {
   "cell_type": "code",
   "execution_count": 19,
   "id": "0af838ce-2992-4ab5-8542-dad620568450",
   "metadata": {},
   "outputs": [
    {
     "data": {
      "text/plain": [
       "{101: 367, 102: 365, 'B': 2, 105: 380, 103: 'India'}"
      ]
     },
     "execution_count": 19,
     "metadata": {},
     "output_type": "execute_result"
    }
   ],
   "source": [
    "d.update({103:'India'})\n",
    "d"
   ]
  },
  {
   "cell_type": "code",
   "execution_count": 21,
   "id": "9c988d57-0a18-4d47-84ab-a82d1a6cd717",
   "metadata": {},
   "outputs": [],
   "source": [
    "del d[101]"
   ]
  },
  {
   "cell_type": "code",
   "execution_count": 23,
   "id": "a25d1b70-ed7e-47d4-8913-f058f978fab7",
   "metadata": {},
   "outputs": [
    {
     "data": {
      "text/plain": [
       "{102: 365, 'B': 2, 105: 380, 103: 'India'}"
      ]
     },
     "execution_count": 23,
     "metadata": {},
     "output_type": "execute_result"
    }
   ],
   "source": [
    "d"
   ]
  },
  {
   "cell_type": "code",
   "execution_count": 25,
   "id": "d21196b1-3cfa-4043-821c-ade83ade499f",
   "metadata": {},
   "outputs": [
    {
     "data": {
      "text/plain": [
       "380"
      ]
     },
     "execution_count": 25,
     "metadata": {},
     "output_type": "execute_result"
    }
   ],
   "source": [
    "d.get(105)"
   ]
  },
  {
   "cell_type": "code",
   "execution_count": 27,
   "id": "622ebf6e-0d22-4829-b7c7-3154a38c9336",
   "metadata": {},
   "outputs": [
    {
     "data": {
      "text/plain": [
       "{102: 365, 'B': 2, 105: 380, 103: 'India', 104: [1000, 2000, 3000]}"
      ]
     },
     "execution_count": 27,
     "metadata": {},
     "output_type": "execute_result"
    }
   ],
   "source": [
    "d[104]=[1000,2000,3000]\n",
    "d"
   ]
  },
  {
   "cell_type": "code",
   "execution_count": 29,
   "id": "05cdecbc-fb8b-46c2-8cc5-749cb36cd21b",
   "metadata": {},
   "outputs": [
    {
     "data": {
      "text/plain": [
       "{102: 365, 'B': 2, 105: 380, 103: 'India', 104: [1000, 2000, 3000], 106: 367}"
      ]
     },
     "execution_count": 29,
     "metadata": {},
     "output_type": "execute_result"
    }
   ],
   "source": [
    "d.update({106:367})\n",
    "d"
   ]
  },
  {
   "cell_type": "code",
   "execution_count": 33,
   "id": "41ea8060-8772-45a8-97a9-35b9e32a227b",
   "metadata": {},
   "outputs": [
    {
     "data": {
      "text/plain": [
       "int"
      ]
     },
     "execution_count": 33,
     "metadata": {},
     "output_type": "execute_result"
    }
   ],
   "source": [
    "type(d[102])"
   ]
  },
  {
   "cell_type": "code",
   "execution_count": 35,
   "id": "3ec7bf6b-4c4d-4cf9-95ca-a2f516e96279",
   "metadata": {},
   "outputs": [
    {
     "data": {
      "text/plain": [
       "list"
      ]
     },
     "execution_count": 35,
     "metadata": {},
     "output_type": "execute_result"
    }
   ],
   "source": [
    "type(d[104])"
   ]
  },
  {
   "cell_type": "code",
   "execution_count": 37,
   "id": "47d51789-6843-400a-9b57-e78ae0ac9bb0",
   "metadata": {},
   "outputs": [
    {
     "data": {
      "text/plain": [
       "str"
      ]
     },
     "execution_count": 37,
     "metadata": {},
     "output_type": "execute_result"
    }
   ],
   "source": [
    "type(d[103])"
   ]
  },
  {
   "cell_type": "code",
   "execution_count": 41,
   "id": "43e30e91-88c1-4355-8380-55987be1bb21",
   "metadata": {},
   "outputs": [
    {
     "data": {
      "text/plain": [
       "{102: 365,\n",
       " 'B': 2,\n",
       " 105: 380,\n",
       " 103: 'India',\n",
       " 104: [1000, 2000, 3000, 56],\n",
       " 106: 367}"
      ]
     },
     "execution_count": 41,
     "metadata": {},
     "output_type": "execute_result"
    }
   ],
   "source": [
    "d[104].append(56)\n",
    "d"
   ]
  },
  {
   "cell_type": "code",
   "execution_count": 43,
   "id": "b68a5b03-69b1-4487-9e9b-d83406734294",
   "metadata": {},
   "outputs": [
    {
     "data": {
      "text/plain": [
       "{102: 365,\n",
       " 'B': 2,\n",
       " 105: {'a': {20, 30, 40},\n",
       "  'b': {10, 20, 30},\n",
       "  'c': ['K', {'L': [11, 22], 'M': (77, 88)}, 'N']},\n",
       " 103: 'India',\n",
       " 104: [1000, 2000, 3000, 56],\n",
       " 106: 367}"
      ]
     },
     "execution_count": 43,
     "metadata": {},
     "output_type": "execute_result"
    }
   ],
   "source": [
    "d[105]={'a':{30,40,20},'b':{10,20,30},'c':['K',{'L':[11,22],'M':(77,88)},'N']}\n",
    "d"
   ]
  },
  {
   "cell_type": "code",
   "execution_count": 45,
   "id": "989497b4-bf26-4ecf-a96c-06d74e723c90",
   "metadata": {},
   "outputs": [
    {
     "data": {
      "text/plain": [
       "{102: 365,\n",
       " 'B': 2,\n",
       " 105: {'a': {20, 30, 40},\n",
       "  'b': {10, 20, 30},\n",
       "  'c': ['K', {'L': [11, 22], 'M': (77, 88)}, 'N']},\n",
       " 103: 'India',\n",
       " 104: [1000, 2000, 3000, 56],\n",
       " 106: 367}"
      ]
     },
     "execution_count": 45,
     "metadata": {},
     "output_type": "execute_result"
    }
   ],
   "source": [
    "d"
   ]
  },
  {
   "cell_type": "code",
   "execution_count": null,
   "id": "7a029796-5828-4e5d-88ea-5242bb30f32e",
   "metadata": {},
   "outputs": [],
   "source": []
  },
  {
   "cell_type": "code",
   "execution_count": 47,
   "id": "b4ae76cd-b93c-4b0f-8866-93bee8befefc",
   "metadata": {},
   "outputs": [
    {
     "data": {
      "text/plain": [
       "{'a': {20, 30, 40},\n",
       " 'b': {10, 20, 30},\n",
       " 'c': ['K', {'L': [11, 22], 'M': (77, 88)}, 'N']}"
      ]
     },
     "execution_count": 47,
     "metadata": {},
     "output_type": "execute_result"
    }
   ],
   "source": [
    "d[105]"
   ]
  },
  {
   "cell_type": "code",
   "execution_count": 49,
   "id": "c68e49cb-e569-49ab-8b94-7413a2aadeba",
   "metadata": {},
   "outputs": [
    {
     "name": "stderr",
     "output_type": "stream",
     "text": [
      "<>:1: SyntaxWarning: 'int' object is not callable; perhaps you missed a comma?\n",
      "<>:1: SyntaxWarning: 'int' object is not callable; perhaps you missed a comma?\n",
      "C:\\Users\\shrey\\AppData\\Local\\Temp\\ipykernel_4728\\491918045.py:1: SyntaxWarning: 'int' object is not callable; perhaps you missed a comma?\n",
      "  d[105(a)]\n",
      "C:\\Users\\shrey\\AppData\\Local\\Temp\\ipykernel_4728\\491918045.py:1: SyntaxWarning: 'int' object is not callable; perhaps you missed a comma?\n",
      "  d[105(a)]\n",
      "C:\\Users\\shrey\\AppData\\Local\\Temp\\ipykernel_4728\\491918045.py:1: SyntaxWarning: 'int' object is not callable; perhaps you missed a comma?\n",
      "  d[105(a)]\n",
      "C:\\Users\\shrey\\AppData\\Local\\Temp\\ipykernel_4728\\491918045.py:1: SyntaxWarning: 'int' object is not callable; perhaps you missed a comma?\n",
      "  d[105(a)]\n",
      "C:\\Users\\shrey\\AppData\\Local\\Temp\\ipykernel_4728\\491918045.py:1: SyntaxWarning: 'int' object is not callable; perhaps you missed a comma?\n",
      "  d[105(a)]\n"
     ]
    },
    {
     "ename": "NameError",
     "evalue": "name 'a' is not defined",
     "output_type": "error",
     "traceback": [
      "\u001b[1;31m---------------------------------------------------------------------------\u001b[0m",
      "\u001b[1;31mNameError\u001b[0m                                 Traceback (most recent call last)",
      "Cell \u001b[1;32mIn[49], line 1\u001b[0m\n\u001b[1;32m----> 1\u001b[0m d[\u001b[38;5;241m105\u001b[39m(a)]\n",
      "\u001b[1;31mNameError\u001b[0m: name 'a' is not defined"
     ]
    }
   ],
   "source": [
    "d[105(a)]"
   ]
  },
  {
   "cell_type": "code",
   "execution_count": 51,
   "id": "4494eeb6-ce66-4465-9e50-6876cb54c767",
   "metadata": {},
   "outputs": [
    {
     "name": "stderr",
     "output_type": "stream",
     "text": [
      "<>:1: SyntaxWarning: 'int' object is not callable; perhaps you missed a comma?\n",
      "<>:1: SyntaxWarning: 'int' object is not callable; perhaps you missed a comma?\n",
      "C:\\Users\\shrey\\AppData\\Local\\Temp\\ipykernel_4728\\2895781237.py:1: SyntaxWarning: 'int' object is not callable; perhaps you missed a comma?\n",
      "  d[105('a')]\n"
     ]
    },
    {
     "ename": "TypeError",
     "evalue": "'int' object is not callable",
     "output_type": "error",
     "traceback": [
      "\u001b[1;31m---------------------------------------------------------------------------\u001b[0m",
      "\u001b[1;31mTypeError\u001b[0m                                 Traceback (most recent call last)",
      "Cell \u001b[1;32mIn[51], line 1\u001b[0m\n\u001b[1;32m----> 1\u001b[0m d[\u001b[38;5;241m105\u001b[39m(\u001b[38;5;124m'\u001b[39m\u001b[38;5;124ma\u001b[39m\u001b[38;5;124m'\u001b[39m)]\n",
      "\u001b[1;31mTypeError\u001b[0m: 'int' object is not callable"
     ]
    }
   ],
   "source": [
    "d[105('a')]"
   ]
  },
  {
   "cell_type": "code",
   "execution_count": 71,
   "id": "8fbeeeb8-b698-4ca1-bd06-1d9e333526f8",
   "metadata": {},
   "outputs": [
    {
     "data": {
      "text/plain": [
       "11"
      ]
     },
     "execution_count": 71,
     "metadata": {},
     "output_type": "execute_result"
    }
   ],
   "source": [
    "d[105]['c'][1]['L'][0]\n",
    "\n"
   ]
  },
  {
   "cell_type": "code",
   "execution_count": 59,
   "id": "43619d14-dc21-478c-90d1-086b1340e68f",
   "metadata": {},
   "outputs": [
    {
     "data": {
      "text/plain": [
       "{102: 365,\n",
       " 'B': 2,\n",
       " 105: {'a': {20, 30, 40},\n",
       "  'b': {10, 20, 30},\n",
       "  'c': ['K', {'L': [11, 22], 'M': (77, 88)}, 'N']},\n",
       " 103: 'India',\n",
       " 104: [1000, 2000, 3000, 56],\n",
       " 106: 367,\n",
       " 101: {50: [7, 8, 9, 10], 'apple': (20, 30, 40, [90, 180, 270])}}"
      ]
     },
     "execution_count": 59,
     "metadata": {},
     "output_type": "execute_result"
    }
   ],
   "source": [
    "d[101]={50:[7,8,9,10],'apple':(20,30,40,[90,180,270])}\n",
    "d"
   ]
  },
  {
   "cell_type": "code",
   "execution_count": 73,
   "id": "82cec192-c44d-4997-800f-909657eeb346",
   "metadata": {},
   "outputs": [
    {
     "data": {
      "text/plain": [
       "{50: [7, 8, 9, 10], 'apple': (20, 30, 40, [90, 180, 270])}"
      ]
     },
     "execution_count": 73,
     "metadata": {},
     "output_type": "execute_result"
    }
   ],
   "source": [
    "d[101]"
   ]
  },
  {
   "cell_type": "code",
   "execution_count": null,
   "id": "bfcd81ad-5f5e-45aa-9ec3-b86c54e1b425",
   "metadata": {},
   "outputs": [],
   "source": []
  },
  {
   "cell_type": "code",
   "execution_count": 69,
   "id": "8d195a53-1031-400b-8c5f-f43adbb069b2",
   "metadata": {},
   "outputs": [
    {
     "data": {
      "text/plain": [
       "180"
      ]
     },
     "execution_count": 69,
     "metadata": {},
     "output_type": "execute_result"
    }
   ],
   "source": [
    "d[101]['apple'][3][1]"
   ]
  },
  {
   "cell_type": "code",
   "execution_count": 75,
   "id": "ac43882d-6efb-45a5-b267-33453c6d4294",
   "metadata": {},
   "outputs": [
    {
     "data": {
      "text/plain": [
       "88"
      ]
     },
     "execution_count": 75,
     "metadata": {},
     "output_type": "execute_result"
    }
   ],
   "source": [
    "d[105]['c'][1]['M'][1]"
   ]
  },
  {
   "cell_type": "code",
   "execution_count": null,
   "id": "87e6fd33-3f2b-40aa-a1ef-ebfdf0824828",
   "metadata": {},
   "outputs": [],
   "source": []
  }
 ],
 "metadata": {
  "kernelspec": {
   "display_name": "Python [conda env:base] *",
   "language": "python",
   "name": "conda-base-py"
  },
  "language_info": {
   "codemirror_mode": {
    "name": "ipython",
    "version": 3
   },
   "file_extension": ".py",
   "mimetype": "text/x-python",
   "name": "python",
   "nbconvert_exporter": "python",
   "pygments_lexer": "ipython3",
   "version": "3.12.7"
  }
 },
 "nbformat": 4,
 "nbformat_minor": 5
}
