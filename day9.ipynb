{
 "cells": [
  {
   "cell_type": "code",
   "execution_count": 1,
   "id": "0e0f4743-a8b7-41da-a41f-a580c4e629a2",
   "metadata": {},
   "outputs": [],
   "source": [
    "import numpy as np"
   ]
  },
  {
   "cell_type": "code",
   "execution_count": 3,
   "id": "8188f392-bece-4b9e-80e9-af5425ca5377",
   "metadata": {},
   "outputs": [
    {
     "data": {
      "text/plain": [
       "[4, 6, 2, 8, 9, 1]"
      ]
     },
     "execution_count": 3,
     "metadata": {},
     "output_type": "execute_result"
    }
   ],
   "source": [
    "j=[4,6,2,8,9,1]\n",
    "j"
   ]
  },
  {
   "cell_type": "code",
   "execution_count": 5,
   "id": "4bc5fd86-2898-4aeb-bfd8-2926345f5e2e",
   "metadata": {},
   "outputs": [
    {
     "data": {
      "text/plain": [
       "array([4, 6, 2, 8, 9, 1])"
      ]
     },
     "execution_count": 5,
     "metadata": {},
     "output_type": "execute_result"
    }
   ],
   "source": [
    "np.array(j)"
   ]
  },
  {
   "cell_type": "code",
   "execution_count": 7,
   "id": "64c21b57-632c-4159-91c6-e8a50a287f14",
   "metadata": {},
   "outputs": [
    {
     "data": {
      "text/plain": [
       "(4, 6, 2, 8, 9, 1)"
      ]
     },
     "execution_count": 7,
     "metadata": {},
     "output_type": "execute_result"
    }
   ],
   "source": [
    "tuple(j)"
   ]
  },
  {
   "cell_type": "code",
   "execution_count": 9,
   "id": "4245a02f-e219-47a5-b4dc-fc82e0f25e3f",
   "metadata": {},
   "outputs": [],
   "source": [
    "d=np.array(j)"
   ]
  },
  {
   "cell_type": "code",
   "execution_count": 11,
   "id": "ea0af325-0b09-4558-b799-0858d0559cd4",
   "metadata": {},
   "outputs": [
    {
     "data": {
      "text/plain": [
       "array([4, 6, 2, 8, 9, 1])"
      ]
     },
     "execution_count": 11,
     "metadata": {},
     "output_type": "execute_result"
    }
   ],
   "source": [
    "d"
   ]
  },
  {
   "cell_type": "code",
   "execution_count": 13,
   "id": "0ba64168-31e4-4e4b-a1e9-4e4512ac8b33",
   "metadata": {},
   "outputs": [
    {
     "data": {
      "text/plain": [
       "1"
      ]
     },
     "execution_count": 13,
     "metadata": {},
     "output_type": "execute_result"
    }
   ],
   "source": [
    "d.ndim"
   ]
  },
  {
   "cell_type": "code",
   "execution_count": 15,
   "id": "e3fc3557-4bfd-4996-ab88-3d70988734ec",
   "metadata": {},
   "outputs": [
    {
     "data": {
      "text/plain": [
       "(6,)"
      ]
     },
     "execution_count": 15,
     "metadata": {},
     "output_type": "execute_result"
    }
   ],
   "source": [
    "d.shape"
   ]
  },
  {
   "cell_type": "code",
   "execution_count": 17,
   "id": "fdc96327-38aa-46a6-b85d-f881a5746ceb",
   "metadata": {},
   "outputs": [],
   "source": [
    "w=d.reshape(2,3)"
   ]
  },
  {
   "cell_type": "code",
   "execution_count": 19,
   "id": "719763a2-934c-43d8-b84c-42ef8e403d19",
   "metadata": {},
   "outputs": [
    {
     "data": {
      "text/plain": [
       "array([[4, 6, 2],\n",
       "       [8, 9, 1]])"
      ]
     },
     "execution_count": 19,
     "metadata": {},
     "output_type": "execute_result"
    }
   ],
   "source": [
    "w"
   ]
  },
  {
   "cell_type": "code",
   "execution_count": 21,
   "id": "42238e6a-c357-498a-87d1-465de13aaa29",
   "metadata": {},
   "outputs": [
    {
     "data": {
      "text/plain": [
       "6"
      ]
     },
     "execution_count": 21,
     "metadata": {},
     "output_type": "execute_result"
    }
   ],
   "source": [
    "d.size"
   ]
  },
  {
   "cell_type": "code",
   "execution_count": 23,
   "id": "e9b09c05-b86e-47a9-a7c1-2adce74857b0",
   "metadata": {},
   "outputs": [
    {
     "data": {
      "text/plain": [
       "[[1, 2, 3, 4],\n",
       " [5, 6, 7, 8],\n",
       " [9, 0, 11, 12],\n",
       " [13, 14, 15, 16],\n",
       " [17, 18, 19, 20]]"
      ]
     },
     "execution_count": 23,
     "metadata": {},
     "output_type": "execute_result"
    }
   ],
   "source": [
    "s=[[1,2,3,4],[5,6,7,8],[9,0,11,12],[13,14,15,16],[17,18,19,20]]\n",
    "s"
   ]
  },
  {
   "cell_type": "code",
   "execution_count": 25,
   "id": "3cdfdc4c-2022-4d35-b6d8-cb2eeb8693b2",
   "metadata": {},
   "outputs": [
    {
     "data": {
      "text/plain": [
       "array([[ 1,  2,  3,  4],\n",
       "       [ 5,  6,  7,  8],\n",
       "       [ 9,  0, 11, 12],\n",
       "       [13, 14, 15, 16],\n",
       "       [17, 18, 19, 20]])"
      ]
     },
     "execution_count": 25,
     "metadata": {},
     "output_type": "execute_result"
    }
   ],
   "source": [
    "arr1=np.array(s)\n",
    "arr1"
   ]
  },
  {
   "cell_type": "code",
   "execution_count": 27,
   "id": "fd296ad9-4329-40d8-af73-4cf753a9d593",
   "metadata": {},
   "outputs": [
    {
     "data": {
      "text/plain": [
       "(5, 4)"
      ]
     },
     "execution_count": 27,
     "metadata": {},
     "output_type": "execute_result"
    }
   ],
   "source": [
    "arr1.shape"
   ]
  },
  {
   "cell_type": "code",
   "execution_count": 29,
   "id": "84f71ff4-e641-4747-a437-fbafb816fdf6",
   "metadata": {},
   "outputs": [
    {
     "data": {
      "text/plain": [
       "20"
      ]
     },
     "execution_count": 29,
     "metadata": {},
     "output_type": "execute_result"
    }
   ],
   "source": [
    "arr1.size"
   ]
  },
  {
   "cell_type": "code",
   "execution_count": 31,
   "id": "ce68c0f5-2862-478d-aef6-b31bf209ec43",
   "metadata": {},
   "outputs": [
    {
     "data": {
      "text/plain": [
       "2"
      ]
     },
     "execution_count": 31,
     "metadata": {},
     "output_type": "execute_result"
    }
   ],
   "source": [
    "arr1.ndim"
   ]
  },
  {
   "cell_type": "code",
   "execution_count": 33,
   "id": "42ba20bc-a4fa-47ef-b8fc-a2380c8793c1",
   "metadata": {},
   "outputs": [
    {
     "data": {
      "text/plain": [
       "array([[ 1,  2,  3,  4],\n",
       "       [ 5,  6,  7,  8],\n",
       "       [ 9,  0, 11, 12],\n",
       "       [13, 14, 15, 16],\n",
       "       [17, 18, 19, 20]])"
      ]
     },
     "execution_count": 33,
     "metadata": {},
     "output_type": "execute_result"
    }
   ],
   "source": [
    "arr1"
   ]
  },
  {
   "cell_type": "code",
   "execution_count": 35,
   "id": "16704b25-29b3-4477-926f-06ee81bb9866",
   "metadata": {},
   "outputs": [
    {
     "data": {
      "text/plain": [
       "array([[ 1],\n",
       "       [ 2],\n",
       "       [ 3],\n",
       "       [ 4],\n",
       "       [ 5],\n",
       "       [ 6],\n",
       "       [ 7],\n",
       "       [ 8],\n",
       "       [ 9],\n",
       "       [ 0],\n",
       "       [11],\n",
       "       [12],\n",
       "       [13],\n",
       "       [14],\n",
       "       [15],\n",
       "       [16],\n",
       "       [17],\n",
       "       [18],\n",
       "       [19],\n",
       "       [20]])"
      ]
     },
     "execution_count": 35,
     "metadata": {},
     "output_type": "execute_result"
    }
   ],
   "source": [
    "z=arr1.reshape(20,1)\n",
    "z"
   ]
  },
  {
   "cell_type": "code",
   "execution_count": 37,
   "id": "38a1e866-51c4-4535-bb8a-b6668d7afda8",
   "metadata": {},
   "outputs": [
    {
     "data": {
      "text/plain": [
       "range(5, 20)"
      ]
     },
     "execution_count": 37,
     "metadata": {},
     "output_type": "execute_result"
    }
   ],
   "source": [
    "range(5, 20)"
   ]
  },
  {
   "cell_type": "code",
   "execution_count": 39,
   "id": "3263842b-04a2-4aed-a872-df01e31518be",
   "metadata": {},
   "outputs": [
    {
     "data": {
      "text/plain": [
       "[3, 4, 5, 6, 7, 8]"
      ]
     },
     "execution_count": 39,
     "metadata": {},
     "output_type": "execute_result"
    }
   ],
   "source": [
    "m=[3,4,5,6,7,8]\n",
    "m"
   ]
  },
  {
   "cell_type": "code",
   "execution_count": 41,
   "id": "878cb273-ac7e-4f1f-883f-9112054a12b7",
   "metadata": {},
   "outputs": [
    {
     "data": {
      "text/plain": [
       "[3, 5, 7, 9, 11]"
      ]
     },
     "execution_count": 41,
     "metadata": {},
     "output_type": "execute_result"
    }
   ],
   "source": [
    "list(range(3,13,2))"
   ]
  },
  {
   "cell_type": "code",
   "execution_count": 43,
   "id": "3fc6933c-4967-4e88-94e4-0ab2e9725ca4",
   "metadata": {},
   "outputs": [
    {
     "data": {
      "text/plain": [
       "(5, 105, 205, 305, 405)"
      ]
     },
     "execution_count": 43,
     "metadata": {},
     "output_type": "execute_result"
    }
   ],
   "source": [
    "tuple(range(5,500,100))"
   ]
  },
  {
   "cell_type": "code",
   "execution_count": 45,
   "id": "aee52b03-8b26-446d-a75d-bf5f7ea915cf",
   "metadata": {},
   "outputs": [
    {
     "data": {
      "text/plain": [
       "range(5, 50, 5)"
      ]
     },
     "execution_count": 45,
     "metadata": {},
     "output_type": "execute_result"
    }
   ],
   "source": [
    "range(5,50,5)"
   ]
  },
  {
   "cell_type": "code",
   "execution_count": 47,
   "id": "baaece16-2015-4b6f-8cfb-f5dd32110d0e",
   "metadata": {},
   "outputs": [
    {
     "data": {
      "text/plain": [
       "[10, 20, 30, 40, 50, 60, 70, 80, 90]"
      ]
     },
     "execution_count": 47,
     "metadata": {},
     "output_type": "execute_result"
    }
   ],
   "source": [
    "j=[10,20,30,40,50,60,70,80,90]\n",
    "j"
   ]
  },
  {
   "cell_type": "code",
   "execution_count": 49,
   "id": "c47e8b8a-eae9-4316-af6f-45d42c5cbd9c",
   "metadata": {},
   "outputs": [
    {
     "name": "stdout",
     "output_type": "stream",
     "text": [
      "[10]\n",
      "[20]\n",
      "[10, 30]\n",
      "[20, 40]\n",
      "[10, 30, 50]\n",
      "[20, 40, 60]\n",
      "[10, 30, 50, 70]\n",
      "[20, 40, 60, 80]\n"
     ]
    }
   ],
   "source": [
    "y=[]\n",
    "x=[]\n",
    "for i in range(len(j)):\n",
    "    if i%2==0:\n",
    "        x.append(j[i])\n",
    "    else:\n",
    "        y.append(j[i])\n",
    "        print(x)\n",
    "        print(y)"
   ]
  },
  {
   "cell_type": "code",
   "execution_count": null,
   "id": "308fcd5f-60b2-4276-98ee-a0920a510fbb",
   "metadata": {},
   "outputs": [],
   "source": []
  }
 ],
 "metadata": {
  "kernelspec": {
   "display_name": "Python [conda env:base] *",
   "language": "python",
   "name": "conda-base-py"
  },
  "language_info": {
   "codemirror_mode": {
    "name": "ipython",
    "version": 3
   },
   "file_extension": ".py",
   "mimetype": "text/x-python",
   "name": "python",
   "nbconvert_exporter": "python",
   "pygments_lexer": "ipython3",
   "version": "3.12.7"
  }
 },
 "nbformat": 4,
 "nbformat_minor": 5
}
