{
 "cells": [
  {
   "cell_type": "code",
   "execution_count": 1,
   "id": "edc90fae-37e3-4a36-9098-a923f36f7fca",
   "metadata": {},
   "outputs": [
    {
     "ename": "SyntaxError",
     "evalue": "invalid syntax (2153015190.py, line 3)",
     "output_type": "error",
     "traceback": [
      "\u001b[1;36m  Cell \u001b[1;32mIn[1], line 3\u001b[1;36m\u001b[0m\n\u001b[1;33m    task1 block of code\u001b[0m\n\u001b[1;37m          ^\u001b[0m\n\u001b[1;31mSyntaxError\u001b[0m\u001b[1;31m:\u001b[0m invalid syntax\n"
     ]
    }
   ],
   "source": [
    "#conditional statements\n",
    "if con1:\n",
    "    task1 block of code\n",
    "elif con2:\n",
    "    task2 block of code\n",
    "elif con3:\n",
    "    task3 block of code\n",
    "else:\n",
    "    task4 block of code"
   ]
  },
  {
   "cell_type": "code",
   "execution_count": 3,
   "id": "8cf2437d-2ec3-49e1-a6c5-5e2a8b89dc62",
   "metadata": {},
   "outputs": [
    {
     "name": "stdin",
     "output_type": "stream",
     "text": [
      " 6\n"
     ]
    },
    {
     "name": "stdout",
     "output_type": "stream",
     "text": [
      "Even\n"
     ]
    }
   ],
   "source": [
    "x=int(input())\n",
    "if x%2==0:\n",
    "    print(\"Even\")\n",
    "else:\n",
    "    print(\"Odd\")\n",
    "    "
   ]
  },
  {
   "cell_type": "code",
   "execution_count": 5,
   "id": "16f74d85-c64a-4fd0-b887-e3d538f3f215",
   "metadata": {},
   "outputs": [
    {
     "name": "stdin",
     "output_type": "stream",
     "text": [
      " 4\n"
     ]
    },
    {
     "name": "stdout",
     "output_type": "stream",
     "text": [
      "positive\n"
     ]
    }
   ],
   "source": [
    "x=int(input())\n",
    "if x>0:\n",
    "    print(\"positive\")\n",
    "elif x<0:\n",
    "    print(\"Negative\")\n",
    "else:\n",
    "    print(\"Zero\")"
   ]
  },
  {
   "cell_type": "code",
   "execution_count": 11,
   "id": "16f97cb7-3a76-4d84-af4b-cbc4d299ba45",
   "metadata": {},
   "outputs": [
    {
     "name": "stdin",
     "output_type": "stream",
     "text": [
      " 10\n"
     ]
    },
    {
     "name": "stdout",
     "output_type": "stream",
     "text": [
      "M\n"
     ]
    }
   ],
   "source": [
    "y=int(input())\n",
    "if y>5:\n",
    "    print('M')\n",
    "elif y>4:\n",
    "    print('K')\n",
    "elif y>7:\n",
    "    print('H')\n",
    "else:\n",
    "    print('O')"
   ]
  },
  {
   "cell_type": "code",
   "execution_count": 13,
   "id": "26a745c5-9ec9-4a4f-9e21-9789eac2d8f7",
   "metadata": {},
   "outputs": [],
   "source": [
    "x='hyderabad'\n",
    "x='Tiger'\n",
    "x='Tan'"
   ]
  },
  {
   "cell_type": "code",
   "execution_count": 15,
   "id": "639379af-262a-41b0-8576-6348c01ef4a3",
   "metadata": {},
   "outputs": [],
   "source": [
    "x='lion'\n",
    "x='mumbai'"
   ]
  },
  {
   "cell_type": "code",
   "execution_count": 27,
   "id": "85d1ec41-cfe5-4c0a-beeb-d40a32109372",
   "metadata": {},
   "outputs": [
    {
     "name": "stdin",
     "output_type": "stream",
     "text": [
      " tiger\n"
     ]
    },
    {
     "name": "stdout",
     "output_type": "stream",
     "text": [
      "True\n"
     ]
    }
   ],
   "source": [
    "x=input()\n",
    "if x[0]=='T' or x[0]=='t':\n",
    "    print(\"True\")\n",
    "else:\n",
    "    print(\"False\")"
   ]
  },
  {
   "cell_type": "code",
   "execution_count": 33,
   "id": "ebef6275-7b9f-47bc-b4f3-efa4197f964d",
   "metadata": {},
   "outputs": [
    {
     "name": "stdin",
     "output_type": "stream",
     "text": [
      " Man\n"
     ]
    },
    {
     "name": "stdout",
     "output_type": "stream",
     "text": [
      "Yes\n"
     ]
    }
   ],
   "source": [
    "#h,s,m\n",
    "x=input()\n",
    "if x[0]=='S' or x[0]=='s' or x[0]=='h' or x[0]=='H' or x[0]=='m' or x[0]=='M':\n",
    "    print(\"Yes\")\n",
    "else:\n",
    "    print(\"No\")"
   ]
  },
  {
   "cell_type": "code",
   "execution_count": 47,
   "id": "e68a02a2-1b6c-495a-9a9e-509c7c671257",
   "metadata": {},
   "outputs": [
    {
     "name": "stdin",
     "output_type": "stream",
     "text": [
      " class\n"
     ]
    },
    {
     "name": "stdout",
     "output_type": "stream",
     "text": [
      "yes\n"
     ]
    }
   ],
   "source": [
    "x=input()\n",
    "if x[-1].lower() in {'s','h','m'}: # lower() allows capital and small letters\n",
    "    print(\"yes\")\n",
    "else:\n",
    "    print(\"no\")"
   ]
  },
  {
   "cell_type": "code",
   "execution_count": null,
   "id": "2edaae7f-341e-4b3b-9ed1-967d40bcd1e9",
   "metadata": {},
   "outputs": [],
   "source": []
  }
 ],
 "metadata": {
  "kernelspec": {
   "display_name": "Python [conda env:base] *",
   "language": "python",
   "name": "conda-base-py"
  },
  "language_info": {
   "codemirror_mode": {
    "name": "ipython",
    "version": 3
   },
   "file_extension": ".py",
   "mimetype": "text/x-python",
   "name": "python",
   "nbconvert_exporter": "python",
   "pygments_lexer": "ipython3",
   "version": "3.12.7"
  }
 },
 "nbformat": 4,
 "nbformat_minor": 5
}
