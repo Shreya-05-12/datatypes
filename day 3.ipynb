{
 "cells": [
  {
   "cell_type": "code",
   "execution_count": 5,
   "id": "f84c0f17-deb4-4e28-a1d9-bf73cd308902",
   "metadata": {},
   "outputs": [
    {
     "data": {
      "text/plain": [
       "[203, 'hyd', 367, True, 'delhi', 54, 66, 17]"
      ]
     },
     "execution_count": 5,
     "metadata": {},
     "output_type": "execute_result"
    }
   ],
   "source": [
    "m=[203,'hyd',367,True,'delhi',54,66,17]\n",
    "m"
   ]
  },
  {
   "cell_type": "code",
   "execution_count": 7,
   "id": "66a95b21-bd8a-4ceb-b764-7eb6d219c696",
   "metadata": {},
   "outputs": [
    {
     "data": {
      "text/plain": [
       "203"
      ]
     },
     "execution_count": 7,
     "metadata": {},
     "output_type": "execute_result"
    }
   ],
   "source": [
    "m[0]"
   ]
  },
  {
   "cell_type": "code",
   "execution_count": 9,
   "id": "76dcfec0-9123-4f5f-b83e-11a03e938e0b",
   "metadata": {},
   "outputs": [
    {
     "data": {
      "text/plain": [
       "['hyd', 367]"
      ]
     },
     "execution_count": 9,
     "metadata": {},
     "output_type": "execute_result"
    }
   ],
   "source": [
    "m[1:3]"
   ]
  },
  {
   "cell_type": "code",
   "execution_count": 11,
   "id": "75936ea1-9eed-414a-a996-ee56cbcd7f81",
   "metadata": {},
   "outputs": [
    {
     "data": {
      "text/plain": [
       "[]"
      ]
     },
     "execution_count": 11,
     "metadata": {},
     "output_type": "execute_result"
    }
   ],
   "source": [
    "m[-1:4]"
   ]
  },
  {
   "cell_type": "code",
   "execution_count": 13,
   "id": "cf0995d8-2738-4ecf-a7db-ecbe1d4fa80c",
   "metadata": {},
   "outputs": [
    {
     "data": {
      "text/plain": [
       "[367, True, 'delhi', 54, 66]"
      ]
     },
     "execution_count": 13,
     "metadata": {},
     "output_type": "execute_result"
    }
   ],
   "source": [
    "m[2:7]"
   ]
  },
  {
   "cell_type": "code",
   "execution_count": 15,
   "id": "997fbf59-0bec-4ea7-ab26-9b1e6a25b383",
   "metadata": {},
   "outputs": [
    {
     "data": {
      "text/plain": [
       "367"
      ]
     },
     "execution_count": 15,
     "metadata": {},
     "output_type": "execute_result"
    }
   ],
   "source": [
    "m[-6]"
   ]
  },
  {
   "cell_type": "markdown",
   "id": "4f8fc42f-97b2-493d-9d43-71fd977e36a6",
   "metadata": {},
   "source": [
    "m[-6:-1]"
   ]
  },
  {
   "cell_type": "code",
   "execution_count": 22,
   "id": "b3fcd555-0e5b-4820-81d0-c44a955950bb",
   "metadata": {},
   "outputs": [
    {
     "data": {
      "text/plain": [
       "[367, True, 'delhi', 54, 66]"
      ]
     },
     "execution_count": 22,
     "metadata": {},
     "output_type": "execute_result"
    }
   ],
   "source": [
    "m[-6:-1]"
   ]
  },
  {
   "cell_type": "code",
   "execution_count": 24,
   "id": "d8a257e9-e0bb-4400-994c-ac3059e04fcc",
   "metadata": {},
   "outputs": [
    {
     "data": {
      "text/plain": [
       "[203]"
      ]
     },
     "execution_count": 24,
     "metadata": {},
     "output_type": "execute_result"
    }
   ],
   "source": [
    "m[0:1:6]"
   ]
  },
  {
   "cell_type": "code",
   "execution_count": 26,
   "id": "9ba3f089-975f-4da0-8cbb-e114eccb1de2",
   "metadata": {},
   "outputs": [
    {
     "data": {
      "text/plain": [
       "[True, 'delhi', 54, 66, 17]"
      ]
     },
     "execution_count": 26,
     "metadata": {},
     "output_type": "execute_result"
    }
   ],
   "source": [
    "m[3:8:1]"
   ]
  },
  {
   "cell_type": "code",
   "execution_count": 28,
   "id": "af3116d3-ada2-4176-baae-f65ba997fda1",
   "metadata": {},
   "outputs": [
    {
     "data": {
      "text/plain": [
       "[203, 'hyd', 367, True, 'delhi', 54, 66, 17]"
      ]
     },
     "execution_count": 28,
     "metadata": {},
     "output_type": "execute_result"
    }
   ],
   "source": [
    "m[0:8]"
   ]
  },
  {
   "cell_type": "code",
   "execution_count": 30,
   "id": "6f79d81d-c335-4683-91bf-84f459470c10",
   "metadata": {},
   "outputs": [
    {
     "data": {
      "text/plain": [
       "[]"
      ]
     },
     "execution_count": 30,
     "metadata": {},
     "output_type": "execute_result"
    }
   ],
   "source": [
    "m[-2:2]"
   ]
  },
  {
   "cell_type": "code",
   "execution_count": 32,
   "id": "3e074288-ce76-4fc5-b67c-021392f65bb4",
   "metadata": {},
   "outputs": [
    {
     "data": {
      "text/plain": [
       "[367, True, 'delhi', 54]"
      ]
     },
     "execution_count": 32,
     "metadata": {},
     "output_type": "execute_result"
    }
   ],
   "source": [
    "m[2:-2]"
   ]
  },
  {
   "cell_type": "code",
   "execution_count": 34,
   "id": "80e8910c-685c-49dc-b645-6fb0f895d058",
   "metadata": {},
   "outputs": [],
   "source": [
    "m.append(9) #at last we can add the element"
   ]
  },
  {
   "cell_type": "code",
   "execution_count": 36,
   "id": "bd5bcdfe-e278-4d08-a2a5-7a6dfc6217e7",
   "metadata": {},
   "outputs": [
    {
     "data": {
      "text/plain": [
       "[203, 'hyd', 367, True, 'delhi', 54, 66, 17, 9]"
      ]
     },
     "execution_count": 36,
     "metadata": {},
     "output_type": "execute_result"
    }
   ],
   "source": [
    "m"
   ]
  },
  {
   "cell_type": "code",
   "execution_count": 38,
   "id": "3a85b465-7872-403b-a6a8-3696ca9d4d09",
   "metadata": {},
   "outputs": [
    {
     "data": {
      "text/plain": [
       "[203, 'hyd', 367, True, 'delhi', 54, 66, 17, 9, 'kmr']"
      ]
     },
     "execution_count": 38,
     "metadata": {},
     "output_type": "execute_result"
    }
   ],
   "source": [
    "m.append('kmr')\n",
    "m"
   ]
  },
  {
   "cell_type": "code",
   "execution_count": 40,
   "id": "8de3344c-cdd2-4302-b9a9-98198296186a",
   "metadata": {},
   "outputs": [
    {
     "data": {
      "text/plain": [
       "[203, 'hyd', 367, True, 'delhi', 54, 66, 17, 9, 'kmr', 'India']"
      ]
     },
     "execution_count": 40,
     "metadata": {},
     "output_type": "execute_result"
    }
   ],
   "source": [
    "m.append('India')\n",
    "m"
   ]
  },
  {
   "cell_type": "code",
   "execution_count": 44,
   "id": "690afca3-e75d-489b-960f-83b2757ae3cc",
   "metadata": {},
   "outputs": [
    {
     "data": {
      "text/plain": [
       "[203, 'hyd', 367, True, 'delhi', 66, 17, 9, 'kmr', 'India']"
      ]
     },
     "execution_count": 44,
     "metadata": {},
     "output_type": "execute_result"
    }
   ],
   "source": [
    "m.remove(54)\n",
    "m"
   ]
  },
  {
   "cell_type": "code",
   "execution_count": 46,
   "id": "45f3a1ca-e128-40ef-a249-5e6094e09e3c",
   "metadata": {},
   "outputs": [
    {
     "data": {
      "text/plain": [
       "[203, 17, 'hyd', 367, True, 'delhi', 66, 17, 9, 'kmr', 'India']"
      ]
     },
     "execution_count": 46,
     "metadata": {},
     "output_type": "execute_result"
    }
   ],
   "source": [
    "m.insert(1,17)\n",
    "m"
   ]
  },
  {
   "cell_type": "code",
   "execution_count": 48,
   "id": "172cdd63-0cef-4dbd-b9b1-1f9ced32cca2",
   "metadata": {},
   "outputs": [
    {
     "data": {
      "text/plain": [
       "[203, 17, 'hyd', 367, True, 'delhi', 66, 17, 9, 'kmr']"
      ]
     },
     "execution_count": 48,
     "metadata": {},
     "output_type": "execute_result"
    }
   ],
   "source": [
    "m.pop()\n",
    "m"
   ]
  },
  {
   "cell_type": "code",
   "execution_count": 52,
   "id": "1043bde8-1954-4734-9ed7-c8b998e6bf2a",
   "metadata": {},
   "outputs": [
    {
     "data": {
      "text/plain": [
       "[203, 17, 'hyd', 367, True, 'delhi', 66, 17, 9, 'kmr', 8]"
      ]
     },
     "execution_count": 52,
     "metadata": {},
     "output_type": "execute_result"
    }
   ],
   "source": [
    "m.append(8)\n",
    "m"
   ]
  },
  {
   "cell_type": "code",
   "execution_count": 54,
   "id": "d8aa5840-42f7-4072-8caf-c15319e21d8e",
   "metadata": {},
   "outputs": [
    {
     "data": {
      "text/plain": [
       "[203, 17, 'hyd', 367, True, 66, 17, 9, 'kmr', 8]"
      ]
     },
     "execution_count": 54,
     "metadata": {},
     "output_type": "execute_result"
    }
   ],
   "source": [
    "m.remove('delhi')\n",
    "m"
   ]
  },
  {
   "cell_type": "code",
   "execution_count": 56,
   "id": "261beee2-443e-422d-99cf-98a1698a34c4",
   "metadata": {},
   "outputs": [
    {
     "data": {
      "text/plain": [
       "[203, 17, 'hyd', 367, True, 66, 17, 9, 'kmr', 8, 40, 50]"
      ]
     },
     "execution_count": 56,
     "metadata": {},
     "output_type": "execute_result"
    }
   ],
   "source": [
    "m.extend([40,50])\n",
    "m "
   ]
  },
  {
   "cell_type": "code",
   "execution_count": null,
   "id": "d30d17c8-a7f1-4a95-84be-28dc6d39feba",
   "metadata": {},
   "outputs": [],
   "source": []
  }
 ],
 "metadata": {
  "kernelspec": {
   "display_name": "Python [conda env:base] *",
   "language": "python",
   "name": "conda-base-py"
  },
  "language_info": {
   "codemirror_mode": {
    "name": "ipython",
    "version": 3
   },
   "file_extension": ".py",
   "mimetype": "text/x-python",
   "name": "python",
   "nbconvert_exporter": "python",
   "pygments_lexer": "ipython3",
   "version": "3.12.7"
  }
 },
 "nbformat": 4,
 "nbformat_minor": 5
}
