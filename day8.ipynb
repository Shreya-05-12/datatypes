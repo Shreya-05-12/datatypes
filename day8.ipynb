{
 "cells": [
  {
   "cell_type": "code",
   "execution_count": 8,
   "id": "830bd24c-9758-41bf-9799-7d1dbd0c7899",
   "metadata": {},
   "outputs": [
    {
     "data": {
      "text/plain": [
       "'Mallareddy University'"
      ]
     },
     "execution_count": 8,
     "metadata": {},
     "output_type": "execute_result"
    }
   ],
   "source": [
    "y='MallAreddy University'\n",
    "y"
   ]
  },
  {
   "cell_type": "code",
   "execution_count": 10,
   "id": "c27f7f15-16ec-440b-81c3-3da728b52e43",
   "metadata": {},
   "outputs": [
    {
     "data": {
      "text/plain": [
       "21"
      ]
     },
     "execution_count": 10,
     "metadata": {},
     "output_type": "execute_result"
    }
   ],
   "source": [
    "len(y)"
   ]
  },
  {
   "cell_type": "code",
   "execution_count": 18,
   "id": "b257b089-e6fd-48c5-b3f6-fdf8e3848af3",
   "metadata": {},
   "outputs": [
    {
     "data": {
      "text/plain": [
       "2"
      ]
     },
     "execution_count": 18,
     "metadata": {},
     "output_type": "execute_result"
    }
   ],
   "source": [
    "y.count('a')"
   ]
  },
  {
   "cell_type": "code",
   "execution_count": 20,
   "id": "56d90533-5806-4e0c-a40f-8fe474143d39",
   "metadata": {},
   "outputs": [
    {
     "name": "stdout",
     "output_type": "stream",
     "text": [
      "2\n"
     ]
    }
   ],
   "source": [
    "y = \"MallAreddy University\"\n",
    "c = y.lower().count('a')  \n",
    "print(c)\n"
   ]
  },
  {
   "cell_type": "code",
   "execution_count": null,
   "id": "306fa597-89ab-4598-9e46-ea6540c9e879",
   "metadata": {},
   "outputs": [],
   "source": [
    "def functionname(parameter):\n",
    "    block of code\n",
    "    return output"
   ]
  },
  {
   "cell_type": "code",
   "execution_count": 28,
   "id": "fd0bfb50-299d-4e1f-9bbc-7e28274b42ee",
   "metadata": {},
   "outputs": [
    {
     "name": "stdin",
     "output_type": "stream",
     "text": [
      " 4\n"
     ]
    },
    {
     "name": "stdout",
     "output_type": "stream",
     "text": [
      "50.24\n"
     ]
    }
   ],
   "source": [
    "r=int(input())\n",
    "def area(r):\n",
    "    a=3.14*r*r\n",
    "    return a\n",
    "c_a=area(r)\n",
    "print(c_a)"
   ]
  },
  {
   "cell_type": "markdown",
   "id": "473f56e1-c98c-423c-b130-761a740b3811",
   "metadata": {},
   "source": []
  },
  {
   "cell_type": "code",
   "execution_count": 38,
   "id": "940428a9-17f0-474b-b393-327525e252bc",
   "metadata": {},
   "outputs": [
    {
     "data": {
      "text/plain": [
       "314.0"
      ]
     },
     "execution_count": 38,
     "metadata": {},
     "output_type": "execute_result"
    }
   ],
   "source": [
    "def area(r):\n",
    "    a=3.14*r*r\n",
    "    return a\n",
    "area(r=10)"
   ]
  },
  {
   "cell_type": "code",
   "execution_count": 40,
   "id": "a0a35e4f-0a43-43f8-b3d4-fb2958704f7e",
   "metadata": {},
   "outputs": [
    {
     "data": {
      "text/plain": [
       "314.0"
      ]
     },
     "execution_count": 40,
     "metadata": {},
     "output_type": "execute_result"
    }
   ],
   "source": [
    "3.14*10*10\n"
   ]
  },
  {
   "cell_type": "code",
   "execution_count": 42,
   "id": "97e9769e-3a80-4cd1-9ade-b2e716b57521",
   "metadata": {},
   "outputs": [
    {
     "data": {
      "text/plain": [
       "float"
      ]
     },
     "execution_count": 42,
     "metadata": {},
     "output_type": "execute_result"
    }
   ],
   "source": [
    "w=area(r=10)\n",
    "type(w)"
   ]
  },
  {
   "cell_type": "code",
   "execution_count": 44,
   "id": "0d3fcb21-dc06-4c6b-8ea6-56bec4e0cd11",
   "metadata": {},
   "outputs": [],
   "source": [
    "#type of the object is return we use return type"
   ]
  },
  {
   "cell_type": "code",
   "execution_count": 46,
   "id": "e9990c32-769d-4ad0-937f-c365f25ac53a",
   "metadata": {},
   "outputs": [],
   "source": [
    "def add(a,b):\n",
    "    return a+b"
   ]
  },
  {
   "cell_type": "code",
   "execution_count": 54,
   "id": "24bc112c-edea-4fd9-af7c-2b2fbd8f25a4",
   "metadata": {},
   "outputs": [
    {
     "name": "stdin",
     "output_type": "stream",
     "text": [
      " 4\n",
      " 5\n"
     ]
    },
    {
     "name": "stdout",
     "output_type": "stream",
     "text": [
      "20\n"
     ]
    }
   ],
   "source": [
    "l=int(input())\n",
    "b=int(input())\n",
    "def area(l,b):\n",
    "    return l*b\n",
    "r=area(l,b)\n",
    "print(r)"
   ]
  },
  {
   "cell_type": "code",
   "execution_count": 58,
   "id": "e4f1cd0b-1f47-4559-a382-17ac8c098a27",
   "metadata": {},
   "outputs": [
    {
     "name": "stdin",
     "output_type": "stream",
     "text": [
      " 4\n",
      " 5\n",
      " 6\n"
     ]
    },
    {
     "name": "stdout",
     "output_type": "stream",
     "text": [
      "Area of circle is: 113.03999999999999\n",
      "Area of rectangle is:  20\n"
     ]
    }
   ],
   "source": [
    "l=int(input())\n",
    "b=int(input())\n",
    "r=int(input())\n",
    "def areaofcircle(r):\n",
    "    return 3.14*r*r\n",
    "def areaofrect(l,b):\n",
    "    return l*b\n",
    "r1=areaofcircle(r)\n",
    "r2=areaofrect(l,b)\n",
    "print(\"Area of circle is:\",r1)\n",
    "print(\"Area of rectangle is: \",r2)\n",
    "\n"
   ]
  },
  {
   "cell_type": "code",
   "execution_count": 60,
   "id": "84566863-718e-44e2-bf4f-37ccb1d8ad33",
   "metadata": {},
   "outputs": [],
   "source": [
    "def area(rad,l,w):\n",
    "    aoc=3.14*rad*rad\n",
    "    aor=l*w\n",
    "    return {'area of circle:',aoc,'area of rect:',aor}"
   ]
  },
  {
   "cell_type": "code",
   "execution_count": 64,
   "id": "1616094e-dff0-4a3c-a653-885642acda41",
   "metadata": {},
   "outputs": [
    {
     "data": {
      "text/plain": [
       "{100, 314.0, 'area of circle:', 'area of rect:'}"
      ]
     },
     "execution_count": 64,
     "metadata": {},
     "output_type": "execute_result"
    }
   ],
   "source": [
    "area(10,20,5)"
   ]
  },
  {
   "cell_type": "code",
   "execution_count": 76,
   "id": "8511f01c-6ed5-460f-93ad-54ca590de4ca",
   "metadata": {},
   "outputs": [
    {
     "data": {
      "text/plain": [
       "3"
      ]
     },
     "execution_count": 76,
     "metadata": {},
     "output_type": "execute_result"
    }
   ],
   "source": [
    "def c(s):\n",
    "    return s.lower().count('a')\n",
    "c(s='hyderabAAd')"
   ]
  },
  {
   "cell_type": "code",
   "execution_count": 72,
   "id": "f9ec8402-7a83-47e4-a2ea-225d81c1e138",
   "metadata": {},
   "outputs": [
    {
     "data": {
      "text/plain": [
       "'HyderabAAd 500008 Telangana'"
      ]
     },
     "execution_count": 72,
     "metadata": {},
     "output_type": "execute_result"
    }
   ],
   "source": [
    "t='HyderabAAd 500008 Telangana'\n",
    "t"
   ]
  },
  {
   "cell_type": "code",
   "execution_count": 90,
   "id": "29855786-5833-4971-99ca-ff8c46fb0979",
   "metadata": {},
   "outputs": [],
   "source": [
    "def count_(s):\n",
    "    c=0\n",
    "    d=0\n",
    "    for i in s:\n",
    "        if i.isalpha():\n",
    "            c+=1\n",
    "        elif i.isnumeric():\n",
    "            d+=1\n",
    "    return {'number of alphabets':c,'number of numbers ':d}\n",
    "\n"
   ]
  },
  {
   "cell_type": "code",
   "execution_count": 92,
   "id": "2d068472-b2f9-4585-b34f-1303ce188353",
   "metadata": {},
   "outputs": [
    {
     "data": {
      "text/plain": [
       "{'number of alphabets': 19, 'number of numbers ': 6}"
      ]
     },
     "execution_count": 92,
     "metadata": {},
     "output_type": "execute_result"
    }
   ],
   "source": [
    "count_(t)"
   ]
  },
  {
   "cell_type": "code",
   "execution_count": 98,
   "id": "2203fb80-c01e-48d6-a936-07bef9678c52",
   "metadata": {},
   "outputs": [],
   "source": [
    "num=[36,77,86,55,77,98]"
   ]
  },
  {
   "cell_type": "code",
   "execution_count": 100,
   "id": "690fdc6e-0f9a-42cf-accb-1c82b4cf59ef",
   "metadata": {},
   "outputs": [],
   "source": [
    "def seperate(x):\n",
    "    j=[]\n",
    "    k=[]\n",
    "    for i in num:\n",
    "        if i%2==0:\n",
    "            j.append(i)\n",
    "        else:\n",
    "            k.append(i)\n",
    "    return {'even':j,'odd':k}"
   ]
  },
  {
   "cell_type": "code",
   "execution_count": 102,
   "id": "d7bd0ea3-2fe0-40bb-a17d-da4a04660e67",
   "metadata": {},
   "outputs": [],
   "source": [
    "a=seperate(num)"
   ]
  },
  {
   "cell_type": "code",
   "execution_count": 104,
   "id": "a0f14b79-c3b0-4e17-89a9-f7df76e9b270",
   "metadata": {},
   "outputs": [
    {
     "data": {
      "text/plain": [
       "[36, 86, 98]"
      ]
     },
     "execution_count": 104,
     "metadata": {},
     "output_type": "execute_result"
    }
   ],
   "source": [
    "a['even']"
   ]
  },
  {
   "cell_type": "code",
   "execution_count": null,
   "id": "f17b6804-2bab-4c73-af7b-df010d0e40bd",
   "metadata": {},
   "outputs": [],
   "source": []
  }
 ],
 "metadata": {
  "kernelspec": {
   "display_name": "Python [conda env:base] *",
   "language": "python",
   "name": "conda-base-py"
  },
  "language_info": {
   "codemirror_mode": {
    "name": "ipython",
    "version": 3
   },
   "file_extension": ".py",
   "mimetype": "text/x-python",
   "name": "python",
   "nbconvert_exporter": "python",
   "pygments_lexer": "ipython3",
   "version": "3.12.7"
  }
 },
 "nbformat": 4,
 "nbformat_minor": 5
}
