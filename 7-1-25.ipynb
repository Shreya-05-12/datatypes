{
 "cells": [
  {
   "cell_type": "code",
   "execution_count": 1,
   "id": "135f59df-75d2-4803-88ac-8e4b4210a1ae",
   "metadata": {},
   "outputs": [
    {
     "data": {
      "text/plain": [
       "tuple"
      ]
     },
     "execution_count": 1,
     "metadata": {},
     "output_type": "execute_result"
    }
   ],
   "source": [
    "h=(90,80,70,60,50,40,30,30,20)\n",
    "type(h)"
   ]
  },
  {
   "cell_type": "code",
   "execution_count": 3,
   "id": "e2117854-2e77-4508-be86-11fcf40d6a08",
   "metadata": {},
   "outputs": [
    {
     "data": {
      "text/plain": [
       "set"
      ]
     },
     "execution_count": 3,
     "metadata": {},
     "output_type": "execute_result"
    }
   ],
   "source": [
    "s={30,90,80,70,60,50,40,30,30,20}\n",
    "type(s)"
   ]
  },
  {
   "cell_type": "code",
   "execution_count": 5,
   "id": "390ed036-c9ba-4514-81a7-60a9afb991ed",
   "metadata": {},
   "outputs": [
    {
     "data": {
      "text/plain": [
       "{8, 20, 30, 40, 50, 60, 70, 80, 90}"
      ]
     },
     "execution_count": 5,
     "metadata": {},
     "output_type": "execute_result"
    }
   ],
   "source": [
    "s.add(8)\n",
    "s"
   ]
  },
  {
   "cell_type": "code",
   "execution_count": 13,
   "id": "3f7d69d3-734c-4f0e-810a-cb40178b6b2f",
   "metadata": {},
   "outputs": [
    {
     "data": {
      "text/plain": [
       "{8, 20, 30, 33, 40, 50, 60, 70, 80, 90}"
      ]
     },
     "execution_count": 13,
     "metadata": {},
     "output_type": "execute_result"
    }
   ],
   "source": [
    "s.add(33)\n",
    "s"
   ]
  },
  {
   "cell_type": "code",
   "execution_count": 15,
   "id": "ed14749f-48cb-4337-a9d3-2c04f30f6412",
   "metadata": {},
   "outputs": [
    {
     "data": {
      "text/plain": [
       "{8, 20, 30, 40, 50, 60, 70, 80, 90}"
      ]
     },
     "execution_count": 15,
     "metadata": {},
     "output_type": "execute_result"
    }
   ],
   "source": [
    "s.remove(33)\n",
    "s"
   ]
  },
  {
   "cell_type": "code",
   "execution_count": 17,
   "id": "76a4cced-0ecd-49a0-96f7-4cdb44a25302",
   "metadata": {},
   "outputs": [
    {
     "ename": "KeyError",
     "evalue": "33",
     "output_type": "error",
     "traceback": [
      "\u001b[1;31m---------------------------------------------------------------------------\u001b[0m",
      "\u001b[1;31mKeyError\u001b[0m                                  Traceback (most recent call last)",
      "Cell \u001b[1;32mIn[17], line 1\u001b[0m\n\u001b[1;32m----> 1\u001b[0m s\u001b[38;5;241m.\u001b[39mremove(\u001b[38;5;241m33\u001b[39m)\n\u001b[0;32m      2\u001b[0m s\n",
      "\u001b[1;31mKeyError\u001b[0m: 33"
     ]
    }
   ],
   "source": [
    "s.remove(33)\n",
    "s"
   ]
  },
  {
   "cell_type": "code",
   "execution_count": 19,
   "id": "e050c866-0651-49f2-9e4a-3eec4c398bb0",
   "metadata": {},
   "outputs": [],
   "source": [
    "#while removing the element which is not in the set by using remove() method we will be getting the error\n",
    "#while removing the element which is not in the set by using discard() method we will be getting the error"
   ]
  },
  {
   "cell_type": "code",
   "execution_count": 21,
   "id": "f9e4bab8-03e5-4094-9331-9d5f60b6377b",
   "metadata": {},
   "outputs": [
    {
     "data": {
      "text/plain": [
       "{8, 20, 30, 40, 50, 60, 70, 80, 90}"
      ]
     },
     "execution_count": 21,
     "metadata": {},
     "output_type": "execute_result"
    }
   ],
   "source": [
    "s.discard(33)\n",
    "s"
   ]
  },
  {
   "cell_type": "code",
   "execution_count": 23,
   "id": "660824d4-9062-4653-8779-694360bf92b0",
   "metadata": {},
   "outputs": [
    {
     "data": {
      "text/plain": [
       "{10, 20, 30}"
      ]
     },
     "execution_count": 23,
     "metadata": {},
     "output_type": "execute_result"
    }
   ],
   "source": [
    "y={10,20,30}\n",
    "y"
   ]
  },
  {
   "cell_type": "code",
   "execution_count": 27,
   "id": "9c05c221-d94e-461a-aa3f-65532b13ad58",
   "metadata": {},
   "outputs": [
    {
     "data": {
      "text/plain": [
       "{20, 30}"
      ]
     },
     "execution_count": 27,
     "metadata": {},
     "output_type": "execute_result"
    }
   ],
   "source": [
    "c=s.intersection(y)\n",
    "c"
   ]
  },
  {
   "cell_type": "code",
   "execution_count": 29,
   "id": "9585d052-c143-466a-a113-e73cfbc4e5bd",
   "metadata": {},
   "outputs": [
    {
     "data": {
      "text/plain": [
       "{8, 10, 20, 30, 40, 50, 60, 70, 80, 90}"
      ]
     },
     "execution_count": 29,
     "metadata": {},
     "output_type": "execute_result"
    }
   ],
   "source": [
    "b=s.union(y)\n",
    "b"
   ]
  },
  {
   "cell_type": "code",
   "execution_count": 31,
   "id": "03730cc1-d047-4575-b2fe-643d6d17d382",
   "metadata": {},
   "outputs": [
    {
     "data": {
      "text/plain": [
       "{8, 40, 50, 60, 70, 80, 90}"
      ]
     },
     "execution_count": 31,
     "metadata": {},
     "output_type": "execute_result"
    }
   ],
   "source": [
    "s.difference(y)  "
   ]
  },
  {
   "cell_type": "code",
   "execution_count": 35,
   "id": "7e0c9b01-1f2b-4e78-abe0-4201cda890d0",
   "metadata": {},
   "outputs": [
    {
     "data": {
      "text/plain": [
       "{10}"
      ]
     },
     "execution_count": 35,
     "metadata": {},
     "output_type": "execute_result"
    }
   ],
   "source": [
    "y.difference(s)"
   ]
  },
  {
   "cell_type": "code",
   "execution_count": 41,
   "id": "d057abf3-26bf-4477-8923-0d940d79af22",
   "metadata": {},
   "outputs": [
    {
     "data": {
      "text/plain": [
       "[70, 40, 8, 80, 50, 20, 90, 60, 30]"
      ]
     },
     "execution_count": 41,
     "metadata": {},
     "output_type": "execute_result"
    }
   ],
   "source": [
    "l=list(s)  # to access the element in set first convert into list and then can access through their indexes\n",
    "l\n"
   ]
  },
  {
   "cell_type": "code",
   "execution_count": 43,
   "id": "9b157d8c-f487-4f08-b758-e185a382571d",
   "metadata": {},
   "outputs": [
    {
     "data": {
      "text/plain": [
       "{8, 20, 30, 40, 50, 60, 70, 80, 90}"
      ]
     },
     "execution_count": 43,
     "metadata": {},
     "output_type": "execute_result"
    }
   ],
   "source": [
    "s"
   ]
  },
  {
   "cell_type": "code",
   "execution_count": 45,
   "id": "3cc5a094-fb28-4408-992e-81440c2bd898",
   "metadata": {},
   "outputs": [
    {
     "data": {
      "text/plain": [
       "[70, 40, 8, 80, 50, 20, 90, 60, 30]"
      ]
     },
     "execution_count": 45,
     "metadata": {},
     "output_type": "execute_result"
    }
   ],
   "source": [
    "l"
   ]
  },
  {
   "cell_type": "code",
   "execution_count": 47,
   "id": "00ad1553-7e02-41e1-b40e-4a16f3f0e44b",
   "metadata": {},
   "outputs": [
    {
     "data": {
      "text/plain": [
       "80"
      ]
     },
     "execution_count": 47,
     "metadata": {},
     "output_type": "execute_result"
    }
   ],
   "source": [
    "l[3]"
   ]
  },
  {
   "cell_type": "code",
   "execution_count": 51,
   "id": "2d453911-633f-43eb-b0a6-efbdcfa51abc",
   "metadata": {},
   "outputs": [
    {
     "data": {
      "text/plain": [
       "[40, 20, 30]"
      ]
     },
     "execution_count": 51,
     "metadata": {},
     "output_type": "execute_result"
    }
   ],
   "source": [
    "a={20,30,40} #set{}\n",
    "b=list(a) #list[]\n",
    "b"
   ]
  },
  {
   "cell_type": "code",
   "execution_count": null,
   "id": "4b870045-972d-47b2-ba4a-70e1ab96e768",
   "metadata": {},
   "outputs": [],
   "source": []
  }
 ],
 "metadata": {
  "kernelspec": {
   "display_name": "Python [conda env:base] *",
   "language": "python",
   "name": "conda-base-py"
  },
  "language_info": {
   "codemirror_mode": {
    "name": "ipython",
    "version": 3
   },
   "file_extension": ".py",
   "mimetype": "text/x-python",
   "name": "python",
   "nbconvert_exporter": "python",
   "pygments_lexer": "ipython3",
   "version": "3.12.7"
  }
 },
 "nbformat": 4,
 "nbformat_minor": 5
}
